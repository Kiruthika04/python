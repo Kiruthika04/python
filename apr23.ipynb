{
 "cells": [
  {
   "cell_type": "code",
   "execution_count": 2,
   "id": "20cd88b3-08fa-4357-a50c-856db7beb63e",
   "metadata": {},
   "outputs": [
    {
     "name": "stdout",
     "output_type": "stream",
     "text": [
      "True\n"
     ]
    }
   ],
   "source": [
    "#anagram\n",
    "\n",
    "l=\"listen\"\n",
    "s=\"silent\"\n",
    "k=''.join(sorted(l))\n",
    "k1=''.join(sorted(s))\n",
    "if k==k1:\n",
    "    print(\"True\")\n",
    "else:\n",
    "    print(\"False\")"
   ]
  },
  {
   "cell_type": "code",
   "execution_count": 125,
   "id": "3bb95349-aac9-4c07-995d-ff3edf103c52",
   "metadata": {},
   "outputs": [
    {
     "name": "stdout",
     "output_type": "stream",
     "text": [
      "['e', 'i', 'l', 'n', 's', 't']\n",
      "eilnst\n"
     ]
    }
   ],
   "source": [
    "l=\"listen\"\n",
    "s=\"silent\"\n",
    "k=sorted(l)\n",
    "print(k)\n",
    "k=''.join(sorted(l))\n",
    "print(k)"
   ]
  },
  {
   "cell_type": "code",
   "execution_count": 4,
   "id": "482c9ca1-c1d3-4ee8-b8d6-0b1d089bd19e",
   "metadata": {},
   "outputs": [
    {
     "name": "stdout",
     "output_type": "stream",
     "text": [
      "True\n"
     ]
    }
   ],
   "source": [
    "#palindrome\n",
    "\n",
    "k=\"madam\"\n",
    "k1=k[::-1]\n",
    "if k==k1:\n",
    "    print(\"True\")\n",
    "else:\n",
    "    print(\"False\")"
   ]
  },
  {
   "cell_type": "code",
   "execution_count": 8,
   "id": "0526bca6-fbe8-4e12-9618-a0e6642ae7b0",
   "metadata": {},
   "outputs": [
    {
     "ename": "NameError",
     "evalue": "name 'isprime' is not defined",
     "output_type": "error",
     "traceback": [
      "\u001b[1;31m---------------------------------------------------------------------------\u001b[0m",
      "\u001b[1;31mNameError\u001b[0m                                 Traceback (most recent call last)",
      "Cell \u001b[1;32mIn[8], line 1\u001b[0m\n\u001b[1;32m----> 1\u001b[0m k\u001b[38;5;241m=\u001b[39misprime(\u001b[38;5;241m30\u001b[39m)\n\u001b[0;32m      2\u001b[0m k\n",
      "\u001b[1;31mNameError\u001b[0m: name 'isprime' is not defined"
     ]
    }
   ],
   "source": [
    "k=isprime(30)\n",
    "k"
   ]
  },
  {
   "cell_type": "code",
   "execution_count": 30,
   "id": "5feb587b-1303-4cff-8b88-79452ebc0552",
   "metadata": {},
   "outputs": [
    {
     "name": "stdout",
     "output_type": "stream",
     "text": [
      "Not prime\n"
     ]
    }
   ],
   "source": [
    "#primeornot\n",
    "\n",
    "def isprime(n):\n",
    "    if n==0 or n==1:\n",
    "        print(\"Prime\")\n",
    "    elif n>1:\n",
    "        for i in range(2,n):\n",
    "            if (n%i)==0:\n",
    "                print(\"Not prime\")\n",
    "                break\n",
    "            else:\n",
    "                print(\"Prime\")\n",
    "                break\n",
    "    else:\n",
    "        print(\"Not prime\")\n",
    "\n",
    "isprime(10)"
   ]
  },
  {
   "cell_type": "code",
   "execution_count": 88,
   "id": "e21ad64a-61dd-44b3-ad0f-cb030968764b",
   "metadata": {},
   "outputs": [
    {
     "name": "stdout",
     "output_type": "stream",
     "text": [
      "fibonacci series\n",
      "0\n",
      "1\n",
      "1\n",
      "2\n",
      "3\n",
      "5\n",
      "8\n"
     ]
    }
   ],
   "source": [
    "#fibonacci series\n",
    "\n",
    "def fibonacci(num):\n",
    "    n1=0\n",
    "    n2=1\n",
    "    count=0\n",
    "    if num<=0:\n",
    "        print(\"please enter a positive number\")\n",
    "    elif num==1:\n",
    "        print(\"fibonacci series\")\n",
    "        print(n1)\n",
    "    else:\n",
    "        print(\"fibonacci series\")\n",
    "        while count<num:\n",
    "            print(n1)\n",
    "            n=n1+n2   #update values\n",
    "            n1=n2\n",
    "            n2=n\n",
    "            count += 1\n",
    "            \n",
    "\n",
    "fibonacci(7)"
   ]
  },
  {
   "cell_type": "code",
   "execution_count": 93,
   "id": "c38a9c7b-29b8-4fb2-8d5d-65a6703a04e0",
   "metadata": {},
   "outputs": [
    {
     "name": "stdout",
     "output_type": "stream",
     "text": [
      "maximum: 18\n",
      "minimum: 1\n"
     ]
    }
   ],
   "source": [
    "#find maximum and minimum number\n",
    "\n",
    "k=(5,2,8,1,9,2,18)\n",
    "maximum=max(k)\n",
    "minimum=min(k)\n",
    "print(\"maximum:\",maximum)\n",
    "print(\"minimum:\",minimum)"
   ]
  },
  {
   "cell_type": "code",
   "execution_count": 95,
   "id": "d585d789-673b-43f2-9e69-3b853722c0e5",
   "metadata": {},
   "outputs": [
    {
     "name": "stdout",
     "output_type": "stream",
     "text": [
      "maximum: 18\n",
      "minimum: 1\n"
     ]
    }
   ],
   "source": [
    "#find maximum and minimum number\n",
    "\n",
    "set={5,2,8,1,9,2,18}\n",
    "list=list(set)\n",
    "maximum=max(list)\n",
    "minimum=min(list)\n",
    "print(\"maximum:\",maximum)\n",
    "print(\"minimum:\",minimum)"
   ]
  },
  {
   "cell_type": "code",
   "execution_count": 117,
   "id": "a41bf89d-cfe7-4e74-8527-e574c4ca814b",
   "metadata": {},
   "outputs": [
    {
     "name": "stdout",
     "output_type": "stream",
     "text": [
      "second largest 9\n",
      "second smallest 2\n"
     ]
    }
   ],
   "source": [
    "#find 2nd largest and 2nd smallest number\n",
    "\n",
    "k=[5,2,8,1,9,2,18]\n",
    "\n",
    "l1=max(k)\n",
    "s1=min(k)\n",
    "\n",
    "k.remove(l1)\n",
    "k.remove(s1)\n",
    "\n",
    "l2=max(k)\n",
    "s2=min(k)\n",
    "\n",
    "print(\"second largest\",l2)\n",
    "print(\"second smallest\",s2)"
   ]
  },
  {
   "cell_type": "code",
   "execution_count": 123,
   "id": "425fe862-3f20-4a61-b4c6-b321f0b6bb32",
   "metadata": {},
   "outputs": [
    {
     "name": "stdout",
     "output_type": "stream",
     "text": [
      "['e', 'i', 'l', 'n', 's', 't']\n",
      "eilnst\n"
     ]
    }
   ],
   "source": [
    "l=\"listen\"\n",
    "s=\"silent\"\n",
    "k=sorted(l)\n",
    "print(k)\n",
    "k=''.join(sorted(l))\n",
    "print(k)"
   ]
  },
  {
   "cell_type": "code",
   "execution_count": 137,
   "id": "a720e3c2-e112-484b-971c-b7173fb8ccc4",
   "metadata": {},
   "outputs": [
    {
     "name": "stdout",
     "output_type": "stream",
     "text": [
      "[1, 2, 3, 15, 19, 29, 234]\n"
     ]
    },
    {
     "data": {
      "text/plain": [
       "[1, 2, 3, 15, 19, 29, 234]"
      ]
     },
     "execution_count": 137,
     "metadata": {},
     "output_type": "execute_result"
    }
   ],
   "source": [
    "l=[15,3,1,19,2,29,234]\n",
    "k=sorted(l)\n",
    "print(k)\n",
    "l.sort()\n",
    "l"
   ]
  },
  {
   "cell_type": "code",
   "execution_count": 145,
   "id": "c90ad188-2736-448d-a940-a8605bbe1326",
   "metadata": {},
   "outputs": [
    {
     "data": {
      "text/plain": [
       "[1, 2, 3, 15, 19, 29, 234]"
      ]
     },
     "execution_count": 145,
     "metadata": {},
     "output_type": "execute_result"
    }
   ],
   "source": [
    "#sort in ascending and descending order\n",
    "\n",
    "l=[15,3,1,19,2,29,234]\n",
    "l.sort()\n",
    "l\n",
    "#l.sort(reverse=True)\n",
    "#l"
   ]
  },
  {
   "cell_type": "code",
   "execution_count": 155,
   "id": "037ff4f2-c5b3-4a3e-a75d-4a70f52ba736",
   "metadata": {},
   "outputs": [
    {
     "name": "stdout",
     "output_type": "stream",
     "text": [
      "4\n",
      "13\n"
     ]
    }
   ],
   "source": [
    "#count vowels and consonants in a string\n",
    "\n",
    "s=\"Python Programming\"\n",
    "vowels={'a','e','i','o','u','A','E','I','O','U'}\n",
    "consonants={'b','c','d','f','g','h','j','k','l','m','n','p','q','r','s','t','v','w','x','y','z','B','C','D','F','G','H','J','L','M','N','P','Q','R','S','T','V','W','X','Y','Z'}\n",
    "v_count=0\n",
    "c_count=0\n",
    "for char in s:\n",
    "    if char in vowels:\n",
    "        v_count += 1\n",
    "    elif char in consonants:  \n",
    "        c_count += 1\n",
    "print(v_count)\n",
    "print(c_count)"
   ]
  },
  {
   "cell_type": "code",
   "execution_count": 159,
   "id": "59da2d83-8be3-41f8-9f48-74df08562186",
   "metadata": {},
   "outputs": [
    {
     "name": "stdin",
     "output_type": "stream",
     "text": [
      "enter the number 123\n"
     ]
    },
    {
     "name": "stdout",
     "output_type": "stream",
     "text": [
      "6\n"
     ]
    }
   ],
   "source": [
    "#sum of digit in a number\n",
    "\n",
    "n=int(input(\"enter the number\"))\n",
    "sum=0\n",
    "while n>0:\n",
    "    sum=sum+(n%10)\n",
    "    n=n//10\n",
    "\n",
    "print(sum)"
   ]
  },
  {
   "cell_type": "code",
   "execution_count": 163,
   "id": "acf6adb4-55d8-4207-8be9-733a187ac2b2",
   "metadata": {},
   "outputs": [
    {
     "name": "stdin",
     "output_type": "stream",
     "text": [
      "enter the number 5\n"
     ]
    },
    {
     "name": "stdout",
     "output_type": "stream",
     "text": [
      "120\n"
     ]
    }
   ],
   "source": [
    "#factorial of a number\n",
    "\n",
    "n=int(input(\"enter the number\"))\n",
    "fact=1\n",
    "for i in range(1,n+1):\n",
    "    fact=fact*i\n",
    "\n",
    "print(fact)"
   ]
  },
  {
   "cell_type": "code",
   "execution_count": 165,
   "id": "67a97d8a-4530-4107-b49c-d5fe484b9a84",
   "metadata": {},
   "outputs": [
    {
     "name": "stdin",
     "output_type": "stream",
     "text": [
      "enter the number 6\n"
     ]
    },
    {
     "name": "stdout",
     "output_type": "stream",
     "text": [
      "even\n"
     ]
    }
   ],
   "source": [
    "#check even or odd\n",
    "\n",
    "def even(n):\n",
    "    if n%2==0:\n",
    "        print(\"even\")\n",
    "    else:\n",
    "        print(\"odd\")\n",
    "\n",
    "n=int(input(\"enter the number\"))\n",
    "even(n)"
   ]
  },
  {
   "cell_type": "code",
   "execution_count": 175,
   "id": "eacc94c8-a3cb-4ca7-a2ef-e7864b443493",
   "metadata": {},
   "outputs": [
    {
     "ename": "TypeError",
     "evalue": "'set' object is not callable",
     "output_type": "error",
     "traceback": [
      "\u001b[1;31m---------------------------------------------------------------------------\u001b[0m",
      "\u001b[1;31mTypeError\u001b[0m                                 Traceback (most recent call last)",
      "Cell \u001b[1;32mIn[175], line 4\u001b[0m\n\u001b[0;32m      1\u001b[0m \u001b[38;5;66;03m#remove duplicate from a list\u001b[39;00m\n\u001b[0;32m      3\u001b[0m l\u001b[38;5;241m=\u001b[39m[\u001b[38;5;241m1\u001b[39m,\u001b[38;5;241m2\u001b[39m,\u001b[38;5;241m2\u001b[39m,\u001b[38;5;241m3\u001b[39m,\u001b[38;5;241m3\u001b[39m,\u001b[38;5;241m4\u001b[39m,\u001b[38;5;241m5\u001b[39m]\n\u001b[1;32m----> 4\u001b[0m l\u001b[38;5;241m=\u001b[39m\u001b[38;5;28mlist\u001b[39m(\u001b[38;5;28mset\u001b[39m(l))\n\u001b[0;32m      5\u001b[0m l\n",
      "\u001b[1;31mTypeError\u001b[0m: 'set' object is not callable"
     ]
    }
   ],
   "source": [
    "#remove duplicate from a list\n",
    "\n",
    "l=[1,2,2,3,3,4,5]\n",
    "l=list(set(l))\n",
    "l"
   ]
  },
  {
   "cell_type": "code",
   "execution_count": 187,
   "id": "71f9153f-18cd-4d0f-b7f8-9a03030c8e8c",
   "metadata": {},
   "outputs": [
    {
     "data": {
      "text/plain": [
       "[2, 3, 4, 7, 8, 9, 16, 32, 63, 78, 84, 90]"
      ]
     },
     "execution_count": 187,
     "metadata": {},
     "output_type": "execute_result"
    }
   ],
   "source": [
    "#merge and sort two list\n",
    "\n",
    "l=[2,8,4,7,9,3]\n",
    "s=[32,84,63,16,90,78]\n",
    "l.extend(s)\n",
    "l.sort()\n",
    "l"
   ]
  },
  {
   "cell_type": "code",
   "execution_count": 199,
   "id": "c60c228c-bac0-4cb1-b479-5e559a9822da",
   "metadata": {},
   "outputs": [
    {
     "name": "stdin",
     "output_type": "stream",
     "text": [
      "enter the number 2025\n"
     ]
    },
    {
     "name": "stdout",
     "output_type": "stream",
     "text": [
      "not a leap year\n"
     ]
    }
   ],
   "source": [
    "#check leap year\n",
    "\n",
    "def leap(y):\n",
    "    if y%4==0:\n",
    "        if y%100==0:\n",
    "            if y%400==0:\n",
    "                print(\"leap year\")\n",
    "            else:\n",
    "                print(\"not a leap year\")\n",
    "        else:\n",
    "            print(\"not a leap year\")\n",
    "    else:\n",
    "        print(\"not a leap year\")\n",
    "\n",
    "y=int(input(\"enter the number\"))\n",
    "leap(y)"
   ]
  },
  {
   "cell_type": "code",
   "execution_count": 205,
   "id": "32cf667e-fd3d-4c45-9a02-15f91175451f",
   "metadata": {},
   "outputs": [
    {
     "name": "stdout",
     "output_type": "stream",
     "text": [
      "8\n"
     ]
    }
   ],
   "source": [
    "#find length of a list without using length\n",
    "\n",
    "l=[32,8,44,12,67,19,78,10]\n",
    "count=0\n",
    "for i in l:\n",
    "    count += 1\n",
    "\n",
    "print(count)"
   ]
  },
  {
   "cell_type": "code",
   "execution_count": 207,
   "id": "7cc6cc48-7747-4471-9030-8056c4079b41",
   "metadata": {},
   "outputs": [
    {
     "name": "stdout",
     "output_type": "stream",
     "text": [
      "True\n"
     ]
    }
   ],
   "source": [
    "#check list is a \n",
    "\n",
    "k=[1,2,3,2,1]\n",
    "k1=k[::-1]\n",
    "if k==k1:\n",
    "    print(\"True\")\n",
    "else:\n",
    "    print(\"False\")"
   ]
  },
  {
   "cell_type": "code",
   "execution_count": null,
   "id": "64beee37-660b-4cc1-9b63-567aab5ea682",
   "metadata": {},
   "outputs": [],
   "source": []
  }
 ],
 "metadata": {
  "kernelspec": {
   "display_name": "Python [conda env:base] *",
   "language": "python",
   "name": "conda-base-py"
  },
  "language_info": {
   "codemirror_mode": {
    "name": "ipython",
    "version": 3
   },
   "file_extension": ".py",
   "mimetype": "text/x-python",
   "name": "python",
   "nbconvert_exporter": "python",
   "pygments_lexer": "ipython3",
   "version": "3.12.7"
  }
 },
 "nbformat": 4,
 "nbformat_minor": 5
}
