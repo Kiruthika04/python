{
 "cells": [
  {
   "cell_type": "code",
   "execution_count": 12,
   "id": "8fb86f90-087c-4d30-ac83-0395af456ba3",
   "metadata": {},
   "outputs": [
    {
     "name": "stdout",
     "output_type": "stream",
     "text": [
      "11\n",
      "1\n",
      "12\n",
      "3.0\n"
     ]
    }
   ],
   "source": [
    "#classses\n",
    "\n",
    "class calcu:\n",
    "    def add():\n",
    "        print(5+6)\n",
    "    def sub():\n",
    "        print(6-5)\n",
    "    def mul():\n",
    "        print(4*3)\n",
    "    def div():\n",
    "        print(6/2)\n",
    "obj=calcu\n",
    "obj.add()\n",
    "obj.sub()\n",
    "obj.mul()\n",
    "obj.div()"
   ]
  },
  {
   "cell_type": "code",
   "execution_count": 18,
   "id": "63d55f5c-9bb9-46b5-ab78-8a21b2c5a013",
   "metadata": {},
   "outputs": [
    {
     "name": "stdout",
     "output_type": "stream",
     "text": [
      "5\n",
      "9\n",
      "14\n"
     ]
    }
   ],
   "source": [
    "class myobject:\n",
    "    x=5\n",
    "    y=9\n",
    "    z=x+y\n",
    "\n",
    "object1=myobject()\n",
    "print(object1.x)\n",
    "print(object1.y)\n",
    "print(object1.z)"
   ]
  },
  {
   "cell_type": "code",
   "execution_count": 34,
   "id": "09f216bb-14f3-4ef5-9484-eb37b52eb876",
   "metadata": {},
   "outputs": [
    {
     "name": "stdout",
     "output_type": "stream",
     "text": [
      "27\n"
     ]
    }
   ],
   "source": [
    "class myobject:\n",
    "    def add(self):\n",
    "        a=5\n",
    "        b=5\n",
    "        print(a+b)\n",
    "    def sub(self):\n",
    "        print(10-5)\n",
    "    def mul(self):\n",
    "        print(6*2)\n",
    "    def div(self):\n",
    "        print(8/2)\n",
    "\n",
    "class myobject1:\n",
    "    def add(self):\n",
    "        print(12+15)\n",
    "    def sub(self):\n",
    "        print(20-10)\n",
    "    def mul(self):\n",
    "        print(8*4)\n",
    "    def div(self):\n",
    "        print(4/2)\n",
    "\n",
    "cal=myobject1()\n",
    "cal.add()"
   ]
  },
  {
   "cell_type": "code",
   "execution_count": null,
   "id": "02c5603d-05c6-4c04-8ee2-a631179422e3",
   "metadata": {},
   "outputs": [],
   "source": []
  }
 ],
 "metadata": {
  "kernelspec": {
   "display_name": "Python [conda env:base] *",
   "language": "python",
   "name": "conda-base-py"
  },
  "language_info": {
   "codemirror_mode": {
    "name": "ipython",
    "version": 3
   },
   "file_extension": ".py",
   "mimetype": "text/x-python",
   "name": "python",
   "nbconvert_exporter": "python",
   "pygments_lexer": "ipython3",
   "version": "3.12.7"
  }
 },
 "nbformat": 4,
 "nbformat_minor": 5
}
