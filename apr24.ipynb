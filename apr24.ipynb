{
 "cells": [
  {
   "cell_type": "code",
   "execution_count": 2,
   "id": "e5996438-216b-4507-a4c2-3e37c8b37d7e",
   "metadata": {},
   "outputs": [
    {
     "name": "stdout",
     "output_type": "stream",
     "text": [
      "30\n"
     ]
    }
   ],
   "source": [
    "#largest of 3 number\n",
    "\n",
    "a=15\n",
    "b=5\n",
    "c=30\n",
    "if (a>=b) and (a>=c):\n",
    "    print(a)\n",
    "elif (b>=a) and (b>=c):\n",
    "    print(b)\n",
    "else:\n",
    "    print(c)"
   ]
  },
  {
   "cell_type": "code",
   "execution_count": 4,
   "id": "98d74cd4-c4a6-4c75-a590-a5004570e387",
   "metadata": {},
   "outputs": [
    {
     "name": "stdout",
     "output_type": "stream",
     "text": [
      "dlrow olleh\n"
     ]
    }
   ],
   "source": [
    "#reverse a string\n",
    "\n",
    "s=\"hello world\"\n",
    "k=s[::-1]\n",
    "print(k)"
   ]
  },
  {
   "cell_type": "code",
   "execution_count": 6,
   "id": "28cdd850-878a-453d-83ee-b3b5f0ac8519",
   "metadata": {},
   "outputs": [
    {
     "name": "stdin",
     "output_type": "stream",
     "text": [
      "enter the number 15\n"
     ]
    },
    {
     "name": "stdout",
     "output_type": "stream",
     "text": [
      "not an armstrong number\n"
     ]
    }
   ],
   "source": [
    "#armstrong number\n",
    "\n",
    "num=int(input(\"enter the number\"))\n",
    "sum=0\n",
    "temp=num\n",
    "while temp>0:\n",
    "    digit=temp%10\n",
    "    sum=sum+(digit**3)\n",
    "    temp=temp//10\n",
    "\n",
    "if num==sum:\n",
    "    print(\"armstrong number\")\n",
    "\n",
    "else:\n",
    "    print(\"not an armstrong number\")"
   ]
  },
  {
   "cell_type": "code",
   "execution_count": 10,
   "id": "7508c26b-6309-44db-8201-4a5549fee813",
   "metadata": {},
   "outputs": [
    {
     "name": "stdin",
     "output_type": "stream",
     "text": [
      "enter the number 5\n"
     ]
    },
    {
     "name": "stdout",
     "output_type": "stream",
     "text": [
      "15 x 1 = 5\n",
      "15 x 2 = 10\n",
      "15 x 3 = 15\n",
      "15 x 4 = 20\n",
      "15 x 5 = 25\n",
      "15 x 6 = 30\n",
      "15 x 7 = 35\n",
      "15 x 8 = 40\n",
      "15 x 9 = 45\n",
      "15 x 10 = 50\n"
     ]
    }
   ],
   "source": [
    "#multiplication table\n",
    "\n",
    "n=int(input(\"enter the number\"))\n",
    "for i in range(1,11):\n",
    "    print(num,'x',i,'=',n*i)"
   ]
  },
  {
   "cell_type": "code",
   "execution_count": 14,
   "id": "c8aafaa3-f9dd-45bb-ac96-3bf622de6b6f",
   "metadata": {},
   "outputs": [
    {
     "name": "stdin",
     "output_type": "stream",
     "text": [
      "enter the temperature in celsius 32.5\n"
     ]
    },
    {
     "name": "stdout",
     "output_type": "stream",
     "text": [
      "90.5\n"
     ]
    }
   ],
   "source": [
    "#convert celsius to fehrenheit\n",
    "\n",
    "celsius=float(input(\"enter the temperature in celsius\"))\n",
    "fahrenheit=(celsius*1.8)+32\n",
    "print(fahrenheit)\n",
    "\n",
    "#celsius=(fahrenheit-32)/1.8"
   ]
  },
  {
   "cell_type": "code",
   "execution_count": 16,
   "id": "e60ba101-fb21-4ac2-a413-7e93d6e9fba9",
   "metadata": {},
   "outputs": [
    {
     "data": {
      "text/plain": [
       "[4, 5]"
      ]
     },
     "execution_count": 16,
     "metadata": {},
     "output_type": "execute_result"
    }
   ],
   "source": [
    "#find common elements between two lists\n",
    "\n",
    "a=[1,2,3,4,5]\n",
    "b=[4,5,6,7,8]\n",
    "k=list(set(a) & set(b))\n",
    "k"
   ]
  },
  {
   "cell_type": "code",
   "execution_count": 20,
   "id": "da07b926-2a7e-4cb4-a524-09383c622189",
   "metadata": {},
   "outputs": [
    {
     "name": "stdin",
     "output_type": "stream",
     "text": [
      "enter the radius 5\n"
     ]
    },
    {
     "data": {
      "text/plain": [
       "78.53981633974483"
      ]
     },
     "execution_count": 20,
     "metadata": {},
     "output_type": "execute_result"
    }
   ],
   "source": [
    "#area of a circle\n",
    "\n",
    "import math\n",
    "r=int(input(\"enter the radius\"))\n",
    "area=math.pi*(r**2)\n",
    "area"
   ]
  },
  {
   "cell_type": "code",
   "execution_count": 22,
   "id": "4072ddd3-e30c-4835-8c08-5bd3bace9cc7",
   "metadata": {},
   "outputs": [
    {
     "data": {
      "text/plain": [
       "78.55"
      ]
     },
     "execution_count": 22,
     "metadata": {},
     "output_type": "execute_result"
    }
   ],
   "source": [
    "pi=3.142\n",
    "r=5\n",
    "area=pi*(r**2)\n",
    "area"
   ]
  },
  {
   "cell_type": "code",
   "execution_count": 26,
   "id": "36c7c017-c7d4-4423-bc02-50c026c3ea90",
   "metadata": {},
   "outputs": [
    {
     "name": "stdin",
     "output_type": "stream",
     "text": [
      "enter the number -5\n"
     ]
    },
    {
     "name": "stdout",
     "output_type": "stream",
     "text": [
      "negative\n"
     ]
    }
   ],
   "source": [
    "#check positive,negative or zero\n",
    "\n",
    "n=int(input(\"enter the number\"))\n",
    "if n>0:\n",
    "    print(\"positive\")\n",
    "elif n<0:\n",
    "    print(\"negative\")\n",
    "else:\n",
    "    print(\"zero\")"
   ]
  },
  {
   "cell_type": "code",
   "execution_count": 28,
   "id": "30634585-56c7-446a-8903-b7c14011af46",
   "metadata": {},
   "outputs": [
    {
     "name": "stdin",
     "output_type": "stream",
     "text": [
      "enter the number 7\n"
     ]
    },
    {
     "name": "stdout",
     "output_type": "stream",
     "text": [
      "111\n"
     ]
    }
   ],
   "source": [
    "#convert decimal to binary\n",
    "\n",
    "n=int(input(\"enter the number\"))\n",
    "res=''\n",
    "while n>0:\n",
    "    res=str(n%2)+res\n",
    "    n=n//2\n",
    "\n",
    "print(res)"
   ]
  },
  {
   "cell_type": "code",
   "execution_count": 36,
   "id": "0e1bad1d-e735-42bb-85ae-73eac5d583aa",
   "metadata": {},
   "outputs": [
    {
     "ename": "TypeError",
     "evalue": "'int' object is not callable",
     "output_type": "error",
     "traceback": [
      "\u001b[1;31m---------------------------------------------------------------------------\u001b[0m",
      "\u001b[1;31mTypeError\u001b[0m                                 Traceback (most recent call last)",
      "Cell \u001b[1;32mIn[36], line 4\u001b[0m\n\u001b[0;32m      1\u001b[0m \u001b[38;5;66;03m#sum of all the elements in a list\u001b[39;00m\n\u001b[0;32m      3\u001b[0m a \u001b[38;5;241m=\u001b[39m [\u001b[38;5;241m10\u001b[39m,\u001b[38;5;241m20\u001b[39m,\u001b[38;5;241m30\u001b[39m,\u001b[38;5;241m40\u001b[39m]\n\u001b[1;32m----> 4\u001b[0m res \u001b[38;5;241m=\u001b[39m \u001b[38;5;28msum\u001b[39m(a)\n\u001b[0;32m      5\u001b[0m \u001b[38;5;28mprint\u001b[39m(res)\n",
      "\u001b[1;31mTypeError\u001b[0m: 'int' object is not callable"
     ]
    }
   ],
   "source": [
    "#sum of all the elements in a list\n",
    "\n",
    "a = [10,20,30,40]\n",
    "res = sum(a)\n",
    "print(res)"
   ]
  },
  {
   "cell_type": "code",
   "execution_count": 42,
   "id": "693eecaf-6e28-4458-8e99-144ea36daf27",
   "metadata": {},
   "outputs": [
    {
     "name": "stdout",
     "output_type": "stream",
     "text": [
      "100\n"
     ]
    }
   ],
   "source": [
    "#sum of all the elements in a list\n",
    "\n",
    "a = [10,20,30,40]\n",
    "sum=0\n",
    "for i in a:\n",
    "    sum=sum+i\n",
    "\n",
    "print(sum)"
   ]
  },
  {
   "cell_type": "code",
   "execution_count": 46,
   "id": "a52d0e85-e735-4fe7-aec6-1d5b4d0fb625",
   "metadata": {},
   "outputs": [
    {
     "name": "stdout",
     "output_type": "stream",
     "text": [
      "false\n"
     ]
    }
   ],
   "source": [
    "#check if all characters in string are unique\n",
    "\n",
    "str=\"abcbd\"\n",
    "x=list(set(str))\n",
    "y=list(str)\n",
    "x.sort()\n",
    "y.sort()\n",
    "if(x==y):\n",
    "    print(\"true\")\n",
    "\n",
    "else:\n",
    "    print(\"false\")"
   ]
  },
  {
   "cell_type": "code",
   "execution_count": null,
   "id": "e202d1b3-2c0b-46fe-8854-5f2824bef9fc",
   "metadata": {},
   "outputs": [],
   "source": []
  }
 ],
 "metadata": {
  "kernelspec": {
   "display_name": "Python [conda env:base] *",
   "language": "python",
   "name": "conda-base-py"
  },
  "language_info": {
   "codemirror_mode": {
    "name": "ipython",
    "version": 3
   },
   "file_extension": ".py",
   "mimetype": "text/x-python",
   "name": "python",
   "nbconvert_exporter": "python",
   "pygments_lexer": "ipython3",
   "version": "3.12.7"
  }
 },
 "nbformat": 4,
 "nbformat_minor": 5
}
