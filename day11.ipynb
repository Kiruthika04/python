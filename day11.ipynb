{
 "cells": [
  {
   "cell_type": "code",
   "execution_count": 2,
   "id": "f63836a7-eee7-4554-9207-5b58de6464eb",
   "metadata": {},
   "outputs": [
    {
     "name": "stdout",
     "output_type": "stream",
     "text": [
      "{1: 2, 2: 1, 33: 2, 43: 1, 56: 1}\n"
     ]
    }
   ],
   "source": [
    "l=[1,1,2,33,43,56,33]\n",
    "d={}\n",
    "\n",
    "for i in l:\n",
    "    if i in d:\n",
    "        d[i]+=1\n",
    "    else:\n",
    "        d[i]=1\n",
    "\n",
    "print(d)"
   ]
  },
  {
   "cell_type": "code",
   "execution_count": 4,
   "id": "804f5665-3a60-46e8-8c19-f969b73b3a21",
   "metadata": {},
   "outputs": [
    {
     "name": "stdout",
     "output_type": "stream",
     "text": [
      "10\n"
     ]
    }
   ],
   "source": [
    "def add(a,b):\n",
    "    c=a+b\n",
    "    print(c)\n",
    "add(6,4)"
   ]
  },
  {
   "cell_type": "code",
   "execution_count": 6,
   "id": "5a7b5ca8-e6eb-4ca8-81da-78fdeb030462",
   "metadata": {},
   "outputs": [
    {
     "name": "stdout",
     "output_type": "stream",
     "text": [
      "4\n"
     ]
    }
   ],
   "source": [
    "def add(a,b):\n",
    "    print(a)\n",
    "add(b=6,a=4)"
   ]
  },
  {
   "cell_type": "code",
   "execution_count": 8,
   "id": "742d080b-eda0-4852-b570-7299ad1d8d1c",
   "metadata": {},
   "outputs": [
    {
     "name": "stdout",
     "output_type": "stream",
     "text": [
      "10\n"
     ]
    }
   ],
   "source": [
    "def add(a,b):\n",
    "    c=a+b\n",
    "    return c\n",
    "k=add(b=6,a=4)\n",
    "print(k)"
   ]
  },
  {
   "cell_type": "code",
   "execution_count": 16,
   "id": "3ac5f4c9-ec76-4c28-8027-ab44c47ce1c7",
   "metadata": {},
   "outputs": [
    {
     "name": "stdout",
     "output_type": "stream",
     "text": [
      "15\n",
      "1\n",
      "15\n",
      "5.0\n"
     ]
    }
   ],
   "source": [
    "def add(a,b):\n",
    "    c=a+b\n",
    "    print(c)\n",
    "\n",
    "def sub(a,b):\n",
    "    c=a-b\n",
    "    print(c)\n",
    "\n",
    "def mul(a,b):\n",
    "    c=a*b\n",
    "    print(c)\n",
    "\n",
    "def div(a,b):\n",
    "    c=a/b\n",
    "    print(c)\n",
    "\n",
    "add(8,7)\n",
    "sub(8,7)\n",
    "mul(5,3)\n",
    "div(15,3)"
   ]
  },
  {
   "cell_type": "code",
   "execution_count": 12,
   "id": "1ca3ce03-c7de-4f04-995d-817829dcf267",
   "metadata": {},
   "outputs": [
    {
     "name": "stdout",
     "output_type": "stream",
     "text": [
      "14\n",
      "2\n",
      "18\n",
      "3.0\n"
     ]
    }
   ],
   "source": [
    "def add(a,b):\n",
    "    c=a+b\n",
    "    return c\n",
    "\n",
    "def sub(a,b):\n",
    "    c=a-b\n",
    "    return c\n",
    "\n",
    "def mul(a,b):\n",
    "    c=a*b\n",
    "    return c\n",
    "\n",
    "def div(a,b):\n",
    "    c=a/b\n",
    "    return c\n",
    "\n",
    "    \n",
    "k=add(8,6)\n",
    "print(k)\n",
    "k1=sub(8,6)\n",
    "print(k1)\n",
    "k2=mul(3,6)\n",
    "print(k2)\n",
    "k3=div(15,5)\n",
    "print(k3)"
   ]
  },
  {
   "cell_type": "code",
   "execution_count": 24,
   "id": "998ef742-8e83-4fe7-b390-6f8c2cfe7f2a",
   "metadata": {},
   "outputs": [
    {
     "name": "stdout",
     "output_type": "stream",
     "text": [
      "False\n"
     ]
    }
   ],
   "source": [
    "k=\"kiruthika\"\n",
    "k1=k[::-1]\n",
    "if k==k1:\n",
    "    print(\"True\")\n",
    "else:\n",
    "    print(\"False\")"
   ]
  },
  {
   "cell_type": "code",
   "execution_count": 26,
   "id": "88b8ee40-38a5-4a38-a083-21f41a065b73",
   "metadata": {},
   "outputs": [
    {
     "ename": "AttributeError",
     "evalue": "'str' object has no attribute 'sort'",
     "output_type": "error",
     "traceback": [
      "\u001b[1;31m---------------------------------------------------------------------------\u001b[0m",
      "\u001b[1;31mAttributeError\u001b[0m                            Traceback (most recent call last)",
      "Cell \u001b[1;32mIn[26], line 3\u001b[0m\n\u001b[0;32m      1\u001b[0m k\u001b[38;5;241m=\u001b[39m\u001b[38;5;124m\"\u001b[39m\u001b[38;5;124msilent\u001b[39m\u001b[38;5;124m\"\u001b[39m\n\u001b[0;32m      2\u001b[0m l\u001b[38;5;241m=\u001b[39m\u001b[38;5;124m\"\u001b[39m\u001b[38;5;124mlisten\u001b[39m\u001b[38;5;124m\"\u001b[39m\n\u001b[1;32m----> 3\u001b[0m a\u001b[38;5;241m=\u001b[39mk\u001b[38;5;241m.\u001b[39msort()\n\u001b[0;32m      4\u001b[0m b\u001b[38;5;241m=\u001b[39ml\u001b[38;5;241m.\u001b[39msort()\n\u001b[0;32m      5\u001b[0m \u001b[38;5;28;01mif\u001b[39;00m a\u001b[38;5;241m==\u001b[39mb:\n",
      "\u001b[1;31mAttributeError\u001b[0m: 'str' object has no attribute 'sort'"
     ]
    }
   ],
   "source": [
    "k=\"silent\"\n",
    "l=\"listen\"\n",
    "a=k.sort()\n",
    "b=l.sort()\n",
    "if a==b:\n",
    "    print(\"true\")\n",
    "else:\n",
    "    print(\"false\")"
   ]
  },
  {
   "cell_type": "code",
   "execution_count": null,
   "id": "55e53585-1f07-4015-a591-539cb0aadb1d",
   "metadata": {},
   "outputs": [],
   "source": []
  }
 ],
 "metadata": {
  "kernelspec": {
   "display_name": "Python [conda env:base] *",
   "language": "python",
   "name": "conda-base-py"
  },
  "language_info": {
   "codemirror_mode": {
    "name": "ipython",
    "version": 3
   },
   "file_extension": ".py",
   "mimetype": "text/x-python",
   "name": "python",
   "nbconvert_exporter": "python",
   "pygments_lexer": "ipython3",
   "version": "3.12.7"
  }
 },
 "nbformat": 4,
 "nbformat_minor": 5
}
