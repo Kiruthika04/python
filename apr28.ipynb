{
 "cells": [
  {
   "cell_type": "code",
   "execution_count": 2,
   "id": "b124a3ab-a9ea-4786-995f-2876fb2df91a",
   "metadata": {},
   "outputs": [
    {
     "name": "stdout",
     "output_type": "stream",
     "text": [
      "True\n"
     ]
    }
   ],
   "source": [
    "#anagram\n",
    "\n",
    "l=\"listen\"\n",
    "s=\"silent\"\n",
    "k=''.join(sorted(l))\n",
    "k1=''.join(sorted(s))\n",
    "if k==k1:\n",
    "    print(\"True\")\n",
    "else:\n",
    "    print(\"False\")"
   ]
  },
  {
   "cell_type": "code",
   "execution_count": 4,
   "id": "2961a1f5-0042-457c-a69a-abe370a22ab0",
   "metadata": {},
   "outputs": [
    {
     "name": "stdout",
     "output_type": "stream",
     "text": [
      "True\n"
     ]
    }
   ],
   "source": [
    "#palindrome\n",
    "\n",
    "k=\"madam\"\n",
    "k1=k[::-1]\n",
    "if k==k1:\n",
    "    print(\"True\")\n",
    "else:\n",
    "    print(\"False\")"
   ]
  },
  {
   "cell_type": "code",
   "execution_count": 6,
   "id": "6607e2f3-c179-45af-9300-e4d839c30ef6",
   "metadata": {},
   "outputs": [
    {
     "name": "stdout",
     "output_type": "stream",
     "text": [
      "Prime\n"
     ]
    }
   ],
   "source": [
    "#primeornot\n",
    "\n",
    "def isprime(n):\n",
    "    if n==0 or n==1:\n",
    "        print(\"Prime\")\n",
    "    elif n>1:\n",
    "        for i in range(2,n):\n",
    "            if (n%i)==0:\n",
    "                print(\"Not prime\")\n",
    "                break\n",
    "            else:\n",
    "                print(\"Prime\")\n",
    "                break\n",
    "    else:\n",
    "        print(\"Not prime\")\n",
    "\n",
    "isprime(7)"
   ]
  },
  {
   "cell_type": "code",
   "execution_count": 8,
   "id": "b3e77c81-f38a-4d07-94d1-97d6d675534b",
   "metadata": {},
   "outputs": [
    {
     "name": "stdout",
     "output_type": "stream",
     "text": [
      "fibonacci series\n",
      "0\n",
      "1\n",
      "1\n",
      "2\n",
      "3\n",
      "5\n",
      "8\n"
     ]
    }
   ],
   "source": [
    "#fibonacci series\n",
    "\n",
    "def fibonacci(num):\n",
    "    n1=0\n",
    "    n2=1\n",
    "    count=0\n",
    "    if num<=0:\n",
    "        print(\"please enter a positive number\")\n",
    "    elif num==1:\n",
    "        print(\"fibonacci series\")\n",
    "        print(n1)\n",
    "    else:\n",
    "        print(\"fibonacci series\")\n",
    "        while count<num:\n",
    "            print(n1)\n",
    "            n=n1+n2   #update values\n",
    "            n1=n2\n",
    "            n2=n\n",
    "            count += 1\n",
    "            \n",
    "\n",
    "fibonacci(7) "
   ]
  },
  {
   "cell_type": "code",
   "execution_count": 10,
   "id": "5cc9567c-c430-4bef-b29b-ba9c03b4b2d5",
   "metadata": {},
   "outputs": [
    {
     "name": "stdout",
     "output_type": "stream",
     "text": [
      "maximum: 18\n",
      "minimum: 1\n"
     ]
    }
   ],
   "source": [
    "#find maximum and minimum number\n",
    "\n",
    "k=[5,2,8,1,9,2,18]\n",
    "maximum=max(k)\n",
    "minimum=min(k)\n",
    "print(\"maximum:\",maximum)\n",
    "print(\"minimum:\",minimum)"
   ]
  },
  {
   "cell_type": "code",
   "execution_count": 12,
   "id": "5ddd6e44-cab2-453f-8049-7e7c40ac531d",
   "metadata": {},
   "outputs": [
    {
     "name": "stdout",
     "output_type": "stream",
     "text": [
      "second largest 9\n",
      "second smallest 2\n"
     ]
    }
   ],
   "source": [
    "#find 2nd largest and 2nd smallest number\n",
    "\n",
    "k=[5,2,8,1,9,2,18]\n",
    "\n",
    "l1=max(k)\n",
    "s1=min(k)\n",
    "\n",
    "k.remove(l1)\n",
    "k.remove(s1)\n",
    "\n",
    "l2=max(k)\n",
    "s2=min(k)\n",
    "\n",
    "print(\"second largest\",l2)\n",
    "print(\"second smallest\",s2)"
   ]
  },
  {
   "cell_type": "code",
   "execution_count": 14,
   "id": "ca962e02-579d-49e4-86fc-1c246979c963",
   "metadata": {},
   "outputs": [
    {
     "data": {
      "text/plain": [
       "[1, 2, 3, 15, 19, 29, 234]"
      ]
     },
     "execution_count": 14,
     "metadata": {},
     "output_type": "execute_result"
    }
   ],
   "source": [
    "#sort in ascending and descending order\n",
    "\n",
    "l=[15,3,1,19,2,29,234]\n",
    "l.sort()\n",
    "l\n",
    "#l.sort(reverse=True)\n",
    "#l"
   ]
  },
  {
   "cell_type": "code",
   "execution_count": 16,
   "id": "9c7895dc-dded-4939-bd56-d7f4e175a513",
   "metadata": {},
   "outputs": [
    {
     "name": "stdout",
     "output_type": "stream",
     "text": [
      "4\n",
      "13\n"
     ]
    }
   ],
   "source": [
    "#count vowels and consonants in a string\n",
    "\n",
    "s=\"Python Programming\"\n",
    "vowels={'a','e','i','o','u','A','E','I','O','U'}\n",
    "consonants={'b','c','d','f','g','h','j','k','l','m','n','p','q','r','s','t','v','w','x','y','z','B','C','D','F','G','H','J','L','M','N','P','Q','R','S','T','V','W','X','Y','Z'}\n",
    "v_count=0\n",
    "c_count=0\n",
    "for char in s:\n",
    "    if char in vowels:\n",
    "        v_count += 1\n",
    "    elif char in consonants:  \n",
    "        c_count += 1\n",
    "print(v_count)\n",
    "print(c_count)"
   ]
  },
  {
   "cell_type": "code",
   "execution_count": 18,
   "id": "f56d3fd5-8f89-44d8-9728-8e42de37a987",
   "metadata": {},
   "outputs": [
    {
     "name": "stdin",
     "output_type": "stream",
     "text": [
      "enter the number 123\n"
     ]
    },
    {
     "name": "stdout",
     "output_type": "stream",
     "text": [
      "6\n"
     ]
    }
   ],
   "source": [
    "#sum of digit in a number\n",
    "\n",
    "n=int(input(\"enter the number\"))\n",
    "sum=0\n",
    "while n>0:\n",
    "    sum=sum+(n%10)\n",
    "    n=n//10\n",
    "\n",
    "print(sum)"
   ]
  },
  {
   "cell_type": "code",
   "execution_count": 20,
   "id": "36eec6be-ab4c-4d51-96e0-679db291e109",
   "metadata": {},
   "outputs": [
    {
     "name": "stdin",
     "output_type": "stream",
     "text": [
      "enter the number 5\n"
     ]
    },
    {
     "name": "stdout",
     "output_type": "stream",
     "text": [
      "120\n"
     ]
    }
   ],
   "source": [
    "#factorial of a number\n",
    "\n",
    "n=int(input(\"enter the number\"))\n",
    "fact=1\n",
    "for i in range(1,n+1):\n",
    "    fact=fact*i\n",
    "\n",
    "print(fact)"
   ]
  },
  {
   "cell_type": "code",
   "execution_count": 22,
   "id": "8063e370-0f5b-4801-8b3c-16571a4b98cd",
   "metadata": {},
   "outputs": [
    {
     "name": "stdin",
     "output_type": "stream",
     "text": [
      "enter the number 5\n"
     ]
    },
    {
     "name": "stdout",
     "output_type": "stream",
     "text": [
      "odd\n"
     ]
    }
   ],
   "source": [
    "#check even or odd\n",
    "\n",
    "def even(n):\n",
    "    if n%2==0:\n",
    "        print(\"even\")\n",
    "    else:\n",
    "        print(\"odd\")\n",
    "\n",
    "n=int(input(\"enter the number\"))\n",
    "even(n)"
   ]
  },
  {
   "cell_type": "code",
   "execution_count": 24,
   "id": "9460a6a0-bc43-4ef1-a371-cc21906d91a8",
   "metadata": {},
   "outputs": [
    {
     "name": "stdout",
     "output_type": "stream",
     "text": [
      "[1, 2, 3, 4, 5]\n"
     ]
    }
   ],
   "source": [
    "#remove duplicate from a list\n",
    "\n",
    "l=[1,2,2,3,3,4,5]\n",
    "print(list(set(l)))"
   ]
  },
  {
   "cell_type": "code",
   "execution_count": 26,
   "id": "242b84cf-98ca-4fc3-a702-8b1673ccd763",
   "metadata": {},
   "outputs": [
    {
     "data": {
      "text/plain": [
       "[2, 3, 4, 7, 8, 9, 16, 32, 63, 78, 84, 90]"
      ]
     },
     "execution_count": 26,
     "metadata": {},
     "output_type": "execute_result"
    }
   ],
   "source": [
    "#merge and sort two list\n",
    "\n",
    "l=[2,8,4,7,9,3]\n",
    "s=[32,84,63,16,90,78]\n",
    "l.extend(s)\n",
    "l.sort()\n",
    "l"
   ]
  },
  {
   "cell_type": "code",
   "execution_count": 28,
   "id": "930c8197-1ee5-4ca3-8574-6672fcb9ab43",
   "metadata": {},
   "outputs": [
    {
     "name": "stdin",
     "output_type": "stream",
     "text": [
      "enter the number 2025\n"
     ]
    },
    {
     "name": "stdout",
     "output_type": "stream",
     "text": [
      "not a leap year\n"
     ]
    }
   ],
   "source": [
    "#check leap year\n",
    "\n",
    "def leap(y):\n",
    "    if y%4==0:\n",
    "        if y%100==0:\n",
    "            if y%400==0:\n",
    "                print(\"leap year\")\n",
    "            else:\n",
    "                print(\"not a leap year\")\n",
    "        else:\n",
    "            print(\"not a leap year\")\n",
    "    else:\n",
    "        print(\"not a leap year\")\n",
    "\n",
    "y=int(input(\"enter the number\"))\n",
    "leap(y)"
   ]
  },
  {
   "cell_type": "code",
   "execution_count": 30,
   "id": "e61b5e57-6c5a-47fd-9b6d-067d36c99cd8",
   "metadata": {},
   "outputs": [
    {
     "name": "stdout",
     "output_type": "stream",
     "text": [
      "8\n"
     ]
    }
   ],
   "source": [
    "#find length of a list without using length\n",
    "\n",
    "l=[32,8,44,12,67,19,78,10]\n",
    "count=0\n",
    "for i in l:\n",
    "    count += 1\n",
    "\n",
    "print(count)"
   ]
  },
  {
   "cell_type": "code",
   "execution_count": 32,
   "id": "5a42d3db-a7f5-42ab-9d97-e74e8b38c4b4",
   "metadata": {},
   "outputs": [
    {
     "name": "stdout",
     "output_type": "stream",
     "text": [
      "palindrome\n"
     ]
    }
   ],
   "source": [
    "#check list is a palindrome or not\n",
    "\n",
    "k=[1,2,3,2,1]\n",
    "k1=k[::-1]\n",
    "if k==k1:\n",
    "    print(\"palindrome\")\n",
    "else:\n",
    "    print(\"not palindrome\")"
   ]
  },
  {
   "cell_type": "code",
   "execution_count": null,
   "id": "aee57af5-dbbb-4b99-90a7-e6f892b197e0",
   "metadata": {},
   "outputs": [],
   "source": []
  }
 ],
 "metadata": {
  "kernelspec": {
   "display_name": "Python [conda env:base] *",
   "language": "python",
   "name": "conda-base-py"
  },
  "language_info": {
   "codemirror_mode": {
    "name": "ipython",
    "version": 3
   },
   "file_extension": ".py",
   "mimetype": "text/x-python",
   "name": "python",
   "nbconvert_exporter": "python",
   "pygments_lexer": "ipython3",
   "version": "3.12.7"
  }
 },
 "nbformat": 4,
 "nbformat_minor": 5
}
