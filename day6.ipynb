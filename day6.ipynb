{
 "cells": [
  {
   "cell_type": "code",
   "execution_count": 6,
   "id": "67902df0-90c1-4db9-a64d-724a29f59e94",
   "metadata": {},
   "outputs": [
    {
     "ename": "NameError",
     "evalue": "name 'ß' is not defined",
     "output_type": "error",
     "traceback": [
      "\u001b[1;31m---------------------------------------------------------------------------\u001b[0m",
      "\u001b[1;31mNameError\u001b[0m                                 Traceback (most recent call last)",
      "Cell \u001b[1;32mIn[6], line 1\u001b[0m\n\u001b[1;32m----> 1\u001b[0m k\u001b[38;5;241m=\u001b[39mß\n",
      "\u001b[1;31mNameError\u001b[0m: name 'ß' is not defined"
     ]
    }
   ],
   "source": [
    "k=ß"
   ]
  },
  {
   "cell_type": "markdown",
   "id": "b6d3058b-f504-4bf9-97a6-69a6b8576967",
   "metadata": {},
   "source": [
    "# "
   ]
  },
  {
   "cell_type": "code",
   "execution_count": 8,
   "id": "a73d38a3-b404-48f8-881a-7b69a770e962",
   "metadata": {},
   "outputs": [
    {
     "name": "stdout",
     "output_type": "stream",
     "text": [
      "a is greater\n"
     ]
    }
   ],
   "source": [
    "a=100\n",
    "b=50\n",
    "c=20\n",
    "if a>b and a>c:\n",
    "    print(\"a is greater\")\n",
    "elif b>a and b>c:\n",
    "    print(\"b is greater\")\n",
    "else:\n",
    "    print(\"c is greater\")"
   ]
  },
  {
   "cell_type": "code",
   "execution_count": 28,
   "id": "0c48b00f-e30d-4f5a-a027-87599ec98145",
   "metadata": {},
   "outputs": [
    {
     "name": "stdout",
     "output_type": "stream",
     "text": [
      "[2, 7]\n",
      "[7, 5]\n",
      "[3, 6, 2, 7, 5, 8, 2, 9, 19]\n",
      "[3, 6, 10, 7, 5, 8, 2, 9, 19]\n",
      "[3, 6, 10, 15, 7, 5, 8, 2, 9, 19]\n",
      "[3, 6, 10, 15, 7, 5, 8, 2, 9]\n",
      "[3, 6, 10, 15, 7, 5, 8, 2]\n"
     ]
    }
   ],
   "source": [
    "L=[3,6,2,7,5,8,2,9]\n",
    "print(L[2:4])\n",
    "print(L[-5:-3])\n",
    "L.append(19)  #add at last\n",
    "print(L)\n",
    "L[2]=10    #replace\n",
    "print(L)\n",
    "L.insert(3,15)  #add inbetween\n",
    "print(L)"
   ]
  },
  {
   "cell_type": "code",
   "execution_count": 34,
   "id": "8225212e-d5a9-45b7-ad94-fff2ddc5091c",
   "metadata": {},
   "outputs": [
    {
     "name": "stdout",
     "output_type": "stream",
     "text": [
      "[3, 6, 2, 7, 5, 8, 2]\n",
      "[3, 6, 2, 7, 8, 2]\n",
      "[3, 6, 2, 8, 2]\n"
     ]
    }
   ],
   "source": [
    "L=[3,6,2,7,5,8,2,9]\n",
    "L.pop()\n",
    "print(L)\n",
    "L.pop(4)\n",
    "print(L)\n",
    "L.remove(7)\n",
    "print(L)"
   ]
  },
  {
   "cell_type": "code",
   "execution_count": null,
   "id": "b6448fa8-d5d2-4135-b390-fbf88b080207",
   "metadata": {},
   "outputs": [],
   "source": []
  }
 ],
 "metadata": {
  "kernelspec": {
   "display_name": "Python [conda env:base] *",
   "language": "python",
   "name": "conda-base-py"
  },
  "language_info": {
   "codemirror_mode": {
    "name": "ipython",
    "version": 3
   },
   "file_extension": ".py",
   "mimetype": "text/x-python",
   "name": "python",
   "nbconvert_exporter": "python",
   "pygments_lexer": "ipython3",
   "version": "3.12.7"
  }
 },
 "nbformat": 4,
 "nbformat_minor": 5
}
